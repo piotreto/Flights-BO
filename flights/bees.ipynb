{
 "cells": [
  {
   "cell_type": "markdown",
   "id": "8b503279",
   "metadata": {},
   "source": [
    "# Testing BeeColonyAlgorithm"
   ]
  },
  {
   "cell_type": "code",
   "execution_count": 1,
   "id": "a267bbca",
   "metadata": {},
   "outputs": [],
   "source": [
    "from reader import Reader"
   ]
  },
  {
   "cell_type": "code",
   "execution_count": 2,
   "id": "001db2fd",
   "metadata": {},
   "outputs": [],
   "source": [
    "from datetime import datetime"
   ]
  },
  {
   "cell_type": "markdown",
   "id": "b20e63dc",
   "metadata": {},
   "source": [
    "### Reading in the data"
   ]
  },
  {
   "cell_type": "code",
   "execution_count": 3,
   "id": "20c322d7",
   "metadata": {},
   "outputs": [],
   "source": [
    "start = datetime(2015, 5, 15)\n",
    "end = datetime(2015, 5, 31)"
   ]
  },
  {
   "cell_type": "code",
   "execution_count": 4,
   "id": "91b4c525",
   "metadata": {},
   "outputs": [
    {
     "name": "stderr",
     "output_type": "stream",
     "text": [
      "/home/goader/Desktop/agh/projects/flights/github/flights-main/flights/reader.py:92: DtypeWarning: Columns (7,8) have mixed types. Specify dtype option on import or set low_memory=False.\n",
      "  flights_df = pd.read_csv(data_dir / 'flights.csv')\n"
     ]
    },
    {
     "name": "stdout",
     "output_type": "stream",
     "text": [
      "CPU times: user 34.5 s, sys: 2.26 s, total: 36.7 s\n",
      "Wall time: 37.5 s\n"
     ]
    }
   ],
   "source": [
    "%%time\n",
    "net = Reader.read_flights('../../../data', start, end)"
   ]
  },
  {
   "cell_type": "markdown",
   "id": "efd1521c",
   "metadata": {},
   "source": [
    "### Testing Random DFS Search"
   ]
  },
  {
   "cell_type": "code",
   "execution_count": 5,
   "id": "b3b4218a",
   "metadata": {},
   "outputs": [
    {
     "name": "stdout",
     "output_type": "stream",
     "text": [
      "Albany International Airport -> City of Colorado Springs Municipal Airport\n"
     ]
    }
   ],
   "source": [
    "source = net.airports[14]\n",
    "target = net.airports[72]\n",
    "\n",
    "print(source.name, '->', target.name)"
   ]
  },
  {
   "cell_type": "code",
   "execution_count": 6,
   "id": "2597cd75",
   "metadata": {},
   "outputs": [
    {
     "name": "stdout",
     "output_type": "stream",
     "text": [
      "CPU times: user 103 ms, sys: 173 µs, total: 104 ms\n",
      "Wall time: 103 ms\n"
     ]
    }
   ],
   "source": [
    "%%time\n",
    "path = net.random_dfs_search(source, target)"
   ]
  },
  {
   "cell_type": "code",
   "execution_count": 7,
   "id": "8569c487",
   "metadata": {},
   "outputs": [
    {
     "data": {
      "text/plain": [
       "5"
      ]
     },
     "execution_count": 7,
     "metadata": {},
     "output_type": "execute_result"
    }
   ],
   "source": [
    "len(path)"
   ]
  },
  {
   "cell_type": "code",
   "execution_count": 22,
   "id": "3959c785",
   "metadata": {},
   "outputs": [
    {
     "name": "stdout",
     "output_type": "stream",
     "text": [
      "Albany International Airport -> Tampa International Airport\n",
      "2015-05-15 07:30:00 2015-05-15 10:35:00\n",
      "201.93\n",
      "\n",
      "Tampa International Airport -> Dallas Love Field\n",
      "2015-05-15 16:25:00 2015-05-15 19:05:00\n",
      "174.62\n",
      "\n",
      "Dallas Love Field -> San Francisco International Airport\n",
      "2015-05-15 19:25:00 2015-05-15 23:15:00\n",
      "305.37\n",
      "\n",
      "San Francisco International Airport -> Salt Lake City International Airport\n",
      "2015-05-16 06:00:00 2015-05-16 07:57:00\n",
      "103.63\n",
      "\n",
      "Salt Lake City International Airport -> City of Colorado Springs Municipal Airport\n",
      "2015-05-17 15:30:00 2015-05-17 17:08:00\n",
      "148.0\n",
      "\n"
     ]
    }
   ],
   "source": [
    "for flight in path:\n",
    "    print(flight.origin.name, '->', flight.destination.name)\n",
    "    print(flight.departure, flight.arrival)\n",
    "    print(flight.price)\n",
    "    print()"
   ]
  },
  {
   "cell_type": "markdown",
   "id": "b298f0e3",
   "metadata": {},
   "source": [
    "## BeeColonyConfiguration"
   ]
  },
  {
   "cell_type": "code",
   "execution_count": 23,
   "id": "ad3cd0db",
   "metadata": {},
   "outputs": [],
   "source": [
    "from dataclasses import dataclass\n",
    "from datetime import timedelta"
   ]
  },
  {
   "cell_type": "code",
   "execution_count": 24,
   "id": "f496267a",
   "metadata": {},
   "outputs": [],
   "source": [
    "@dataclass\n",
    "class BeeColonyConfiguration:\n",
    "    # user's limitations\n",
    "    from_datetime: datetime\n",
    "    to_datetime: datetime\n",
    "    max_cost: float  # not used right now, simply need to add one more element to stack in dfs\n",
    "    transfer_time: timedelta  # not used right now, needs to alter Airport objects\n",
    "    max_transfers: int  # not used right now, need to set max_depth for dfs\n",
    "\n",
    "    # cost function parameters\n",
    "    time_priority: float  # [0, 1] value, 0 means that price is the most important, 1 means that time is\n",
    "    \n",
    "    # algorithm hyperparameters\n",
    "    iterations: int\n",
    "    \n",
    "    scout_bees: int\n",
    "        \n",
    "    best_sites: int\n",
    "    elite_sites: int\n",
    "    elite_sites_bees: int\n",
    "    rest_sites_bees: int\n",
    "        \n",
    "    max_shrinkages: int"
   ]
  },
  {
   "cell_type": "code",
   "execution_count": 26,
   "id": "6b98c43c",
   "metadata": {},
   "outputs": [],
   "source": [
    "configuration = BeeColonyConfiguration(\n",
    "    from_datetime = datetime(2015, 5, 18),\n",
    "    to_datetime = datetime(2015, 5, 21, 3, 0, 0),\n",
    "    max_cost = 10000,\n",
    "    transfer_time = timedelta(minutes=30),\n",
    "    max_transfers = 5,\n",
    "    time_priority = 0.65,\n",
    "    iterations = 100,\n",
    "    scout_bees = 20,\n",
    "    best_sites = 10,\n",
    "    elite_sites = 4,\n",
    "    elite_sites_bees = 4,\n",
    "    rest_sites_bees = 2,\n",
    "    max_shrinkages = 3\n",
    ")"
   ]
  },
  {
   "cell_type": "markdown",
   "id": "c5f5d264",
   "metadata": {},
   "source": [
    "## BeeColonyAlgorithm"
   ]
  },
  {
   "cell_type": "code",
   "execution_count": 70,
   "id": "1e5c5bb0",
   "metadata": {},
   "outputs": [],
   "source": [
    "from operator import attrgetter\n",
    "from typing import List, Set, Iterator\n",
    "from copy import copy\n",
    "\n",
    "from tqdm import trange\n",
    "\n",
    "from data import Network, Flight, Airport"
   ]
  },
  {
   "cell_type": "code",
   "execution_count": 71,
   "id": "2b8995a7",
   "metadata": {},
   "outputs": [],
   "source": [
    "class SolutionPath:\n",
    "    def __init__(self, algorithm: BeeColonyAlgorithm, path: List[Flight]) -> None:\n",
    "        self._path = copy(path)\n",
    "        self._cost = algorithm.cost_function(path)\n",
    "\n",
    "    def __len__(self) -> int:\n",
    "        return len(self._path)\n",
    "    \n",
    "    def __getitem__(self, index: int) -> Flight:\n",
    "        return self._path[index]\n",
    "    \n",
    "    def __iter__(self) -> Iterator:\n",
    "        return iter(self._path)\n",
    "        \n",
    "    @property\n",
    "    def path(self) -> List[Flight]:\n",
    "        return self._path\n",
    "    \n",
    "    @property\n",
    "    def cost(self) -> float:\n",
    "        return self._cost\n",
    "\n",
    "    \n",
    "class Neighborhood:\n",
    "    # TODO try out with frozen nodes, not flights, it should give us much better results\n",
    "    def __init__(self, algorithm: BeeColonyAlgorithm, path: SolutionPath) -> None:\n",
    "        self._algorithm = algorithm\n",
    "        \n",
    "        self._center_path: SolutionPath = path\n",
    "        self._frozen_flights: List[Flight] = [path[0]]\n",
    "\n",
    "        self._foragers = 0\n",
    "        self._times_shrunk = 0\n",
    "        self._abandoned = False\n",
    "\n",
    "    @property\n",
    "    def best_path(self) -> SolutionPath:\n",
    "        return self._center_path\n",
    "        \n",
    "    @property\n",
    "    def best_cost(self) -> float:\n",
    "        return self._center_path.cost\n",
    "        \n",
    "    @property\n",
    "    def times_shrunk(self) -> int:\n",
    "        return self._times_shrunk\n",
    "\n",
    "    @property\n",
    "    def abandoned(self) -> bool:\n",
    "        return self._abandoned\n",
    "    \n",
    "    def recruit(self, foragers_count: int):\n",
    "        self._foragers = foragers_count\n",
    "\n",
    "    def shrink(self) -> None:\n",
    "        # if there is no more room to shrink (all the flights on the path are already frozen)\n",
    "        if len(self._frozen_flights) == len(self._center_path):\n",
    "            self._abandoned = True\n",
    "            return\n",
    "\n",
    "        newly_frozen_flight = self._center_path[len(self._frozen_flights)]\n",
    "        self._frozen_flights.append(newly_frozen_flight)\n",
    "\n",
    "        self._times_shrunk += 1\n",
    "        \n",
    "        if self._times_shrunk >= self._algorithm.configuration.max_shrinkages:\n",
    "            self._abandoned = True\n",
    "        \n",
    "    def local_search(self) -> None:\n",
    "        net = self._algorithm.network\n",
    "        improved = False\n",
    "        \n",
    "        for _ in range(self._foragers):\n",
    "            frozen_origin = self._frozen_flights[-1].destination\n",
    "            \n",
    "            path = self._frozen_flights + net.random_dfs_search(\n",
    "                frozen_origin,\n",
    "                self._center_path[-1].destination,\n",
    "                self._frozen_flights[-1].arrival + frozen_origin.transfer_time\n",
    "            )\n",
    "            \n",
    "            solution = SolutionPath(self._algorithm, path)\n",
    "            \n",
    "            if solution.cost < self.best_cost:\n",
    "                self._center_path = solution\n",
    "                improved = True\n",
    "                \n",
    "        if not improved:\n",
    "            self.shrink()\n",
    "            \n",
    "\n",
    "class BeeColonyAlgorithm:\n",
    "    def __init__(\n",
    "        self,\n",
    "        network: Network,\n",
    "        configuration: BeeColonyConfiguration\n",
    "    ) -> None:\n",
    "        \n",
    "        self._configuration = configuration\n",
    "        self._network = network.filter_by_date(configuration.from_datetime, configuration.to_datetime)\n",
    "\n",
    "    @property\n",
    "    def network(self) -> Network:\n",
    "        return self._network\n",
    "    \n",
    "    @property\n",
    "    def configuration(self) -> BeeColonyConfiguration:\n",
    "        return self._configuration\n",
    "        \n",
    "    def cost_function(self, path: List[Flight]) -> float:\n",
    "        overall_time = (path[-1].arrival - path[0].departure) // timedelta(minutes=1)\n",
    "        overall_price = sum(flight.price for flight in path)\n",
    "        \n",
    "        tp = self._configuration.time_priority\n",
    "        # TODO how do we scale time and price\n",
    "        return overall_price * (1 - tp) + (overall_time) * tp\n",
    "        \n",
    "    def global_search(self, source: Airport, target: Airport) -> Neighborhood:\n",
    "        return Neighborhood(\n",
    "            self,\n",
    "            SolutionPath(self, self._network.random_dfs_search(source, target))\n",
    "        )\n",
    "        \n",
    "    def run(self, source: Airport, target: Airport) -> SolutionPath:\n",
    "        conf = self._configuration\n",
    "        \n",
    "        sites = [self.global_search(source, target) for _ in range(conf.scout_bees)]\n",
    "        best_path = sites[0].best_path\n",
    "        \n",
    "        for _ in trange(conf.iterations):\n",
    "            sorted_sites = sorted(sites, key=attrgetter('best_cost'))[:conf.best_sites]\n",
    "            \n",
    "            if sorted_sites[0].best_cost < best_path.cost:\n",
    "                best_path = sorted_sites[0].best_path\n",
    "            \n",
    "            elite_sites = sorted_sites[:conf.elite_sites]\n",
    "            rest_sites = sorted_sites[conf.elite_sites:]\n",
    "\n",
    "            for site in elite_sites:\n",
    "                site.recruit(conf.elite_sites_bees)\n",
    "            for site in rest_sites:\n",
    "                site.recruit(conf.rest_sites_bees)\n",
    "                \n",
    "            for site in sorted_sites:\n",
    "                site.local_search()\n",
    "                \n",
    "            # constructing list of sites for the next iteration\n",
    "            left_sites = [\n",
    "                site for site in sorted_sites if not site.abandoned\n",
    "            ]\n",
    "            \n",
    "            new_sites = [\n",
    "                self.global_search(source, target)\n",
    "                for _ in range(conf.scout_bees - len(left_sites))\n",
    "            ]\n",
    "            \n",
    "            sites = left_sites + new_sites\n",
    "            \n",
    "        return best_path"
   ]
  },
  {
   "cell_type": "code",
   "execution_count": 64,
   "id": "dfa7edf2",
   "metadata": {},
   "outputs": [],
   "source": [
    "algorithm = BeeColonyAlgorithm(net, configuration)"
   ]
  },
  {
   "cell_type": "code",
   "execution_count": 65,
   "id": "2ffeba24",
   "metadata": {},
   "outputs": [
    {
     "data": {
      "text/plain": [
       "97.86650000000002"
      ]
     },
     "execution_count": 65,
     "metadata": {},
     "output_type": "execute_result"
    }
   ],
   "source": [
    "algorithm.cost_function(path)"
   ]
  },
  {
   "cell_type": "code",
   "execution_count": 74,
   "id": "01762dfd",
   "metadata": {},
   "outputs": [
    {
     "data": {
      "text/plain": [
       "(325, 228.2)"
      ]
     },
     "execution_count": 74,
     "metadata": {},
     "output_type": "execute_result"
    }
   ],
   "source": [
    "overall_time = (path[-1].arrival - path[0].departure) // timedelta(minutes=1)\n",
    "overall_price = sum(flight.price for flight in path)\n",
    "\n",
    "overall_time, overall_price"
   ]
  },
  {
   "cell_type": "code",
   "execution_count": 68,
   "id": "26ab6226",
   "metadata": {},
   "outputs": [
    {
     "name": "stderr",
     "output_type": "stream",
     "text": [
      "100%|████████████████████████████████████████████████████████████████████████████████████████████████████████████████████████████████████████████| 100/100 [05:46<00:00,  3.47s/it]"
     ]
    },
    {
     "name": "stdout",
     "output_type": "stream",
     "text": [
      "CPU times: user 5min 49s, sys: 248 ms, total: 5min 49s\n",
      "Wall time: 5min 49s\n"
     ]
    },
    {
     "name": "stderr",
     "output_type": "stream",
     "text": [
      "\n"
     ]
    },
    {
     "data": {
      "text/plain": [
       "291.12"
      ]
     },
     "execution_count": 68,
     "metadata": {},
     "output_type": "execute_result"
    }
   ],
   "source": [
    "%%time\n",
    "path = algorithm.run(source, target)\n",
    "path.cost"
   ]
  },
  {
   "cell_type": "code",
   "execution_count": 73,
   "id": "c59a88b4",
   "metadata": {},
   "outputs": [
    {
     "name": "stdout",
     "output_type": "stream",
     "text": [
      "Albany International Airport -> Chicago O'Hare International Airport\n",
      "2015-05-18 06:49:00 2015-05-18 09:10:00\n",
      "94.58\n",
      "\n",
      "Chicago O'Hare International Airport -> City of Colorado Springs Municipal Airport\n",
      "2015-05-18 09:30:00 2015-05-18 12:14:00\n",
      "133.62\n",
      "\n"
     ]
    }
   ],
   "source": [
    "for flight in path:\n",
    "    print(flight.origin.name, '->', flight.destination.name)\n",
    "    print(flight.departure, flight.arrival)\n",
    "    print(flight.price)\n",
    "    print()"
   ]
  },
  {
   "cell_type": "code",
   "execution_count": null,
   "id": "e9926d9e",
   "metadata": {},
   "outputs": [],
   "source": []
  }
 ],
 "metadata": {
  "kernelspec": {
   "display_name": "Python 3 (ipykernel)",
   "language": "python",
   "name": "python3"
  },
  "language_info": {
   "codemirror_mode": {
    "name": "ipython",
    "version": 3
   },
   "file_extension": ".py",
   "mimetype": "text/x-python",
   "name": "python",
   "nbconvert_exporter": "python",
   "pygments_lexer": "ipython3",
   "version": "3.8.10"
  }
 },
 "nbformat": 4,
 "nbformat_minor": 5
}
